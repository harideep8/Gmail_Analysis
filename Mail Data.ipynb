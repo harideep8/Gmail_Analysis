{
 "cells": [
  {
   "cell_type": "code",
   "execution_count": 1,
   "metadata": {},
   "outputs": [],
   "source": [
    "import mailbox,pandas as pd,numpy as np\n",
    "import matplotlib.pyplot as plt,matplotlib.font_manager as fm\n",
    "from dateutil.parser import parse as parse_datetime\n",
    "%matplotlib inline"
   ]
  },
  {
   "cell_type": "code",
   "execution_count": 2,
   "metadata": {},
   "outputs": [],
   "source": [
    "family='Myraid'\n",
    "title_font=fm.FontProperties(family=family,style='normal',size=20,weight='normal',stretch='normal')\n",
    "lable_font=fm.FontProperties(family=family,style='normal',size=16,weight='normal',stretch='normal')\n",
    "ticks_font=fm.FontProperties(family=family,style='normal',size=12,weight='normal',stretch='normal')"
   ]
  },
  {
   "cell_type": "code",
   "execution_count": 3,
   "metadata": {},
   "outputs": [
    {
     "name": "stdout",
     "output_type": "stream",
     "text": [
      "there are 2,966 mesages in the archive.\n"
     ]
    }
   ],
   "source": [
    "path='All mail Including Spam and Trash.mbox'\n",
    "mbox=mailbox.mbox(path)\n",
    "print('there are {:,} mesages in the archive.'.format(len(mbox)))"
   ]
  },
  {
   "cell_type": "code",
   "execution_count": 38,
   "metadata": {},
   "outputs": [
    {
     "name": "stdout",
     "output_type": "stream",
     "text": [
      "There are 0 messges with dates.\n"
     ]
    }
   ],
   "source": [
    "all_dates=[]\n",
    "all_times=[]\n",
    "for message in mbox:\n",
    "    if not 'X-Gmail-Labels' in message or ('X-Gmail-Label' in message and not 'Chat' in message['X-Gmail-Labels']):\n",
    "        if 'Date' in message and message['Date'] is not None:\n",
    "            try:\n",
    "                date,time=str(parse_datetime(message['Date'])).split(' ')\n",
    "            except Expeption as e:\n",
    "                print(e,message['Date'])\n",
    "            all_dates.append(date)\n",
    "            all_times.append(time)\n",
    "        else:\n",
    "            pass\n",
    "print('There are {:,} messges with dates.'.format(len(all_dates)))\n",
    "            "
   ]
  },
  {
   "cell_type": "code",
   "execution_count": null,
   "metadata": {},
   "outputs": [],
   "source": []
  },
  {
   "cell_type": "code",
   "execution_count": 22,
   "metadata": {},
   "outputs": [],
   "source": [
    "#plot the gmail  traffic by date"
   ]
  },
  {
   "cell_type": "code",
   "execution_count": 27,
   "metadata": {},
   "outputs": [
    {
     "name": "stdout",
     "output_type": "stream",
     "text": [
      "There are 0 dates with messges .\n"
     ]
    }
   ],
   "source": [
    "date_count=pd.Series(all_dates).value_counts().sort_index()\n",
    "print('There are {:,} dates with messges .'.format(len(date_count)))"
   ]
  },
  {
   "cell_type": "code",
   "execution_count": null,
   "metadata": {},
   "outputs": [],
   "source": [
    "date_ranges=pd.date_range(start=min(all_dates),end=max(all_dates),freq='D')\n",
    "index=date_ranges.map(lambda X:str(X.date()))\n",
    "date_counts=date_counts.reindex(index,fill_value=0)\n",
    "print('There are {:,} dates total in the range with or without messages'.format(len(date_counts)))\n",
    "date_counts"
   ]
  },
  {
   "cell_type": "code",
   "execution_count": 31,
   "metadata": {},
   "outputs": [
    {
     "data": {
      "text/plain": [
       "Series([], dtype: float64)"
      ]
     },
     "execution_count": 31,
     "metadata": {},
     "output_type": "execute_result"
    }
   ],
   "source": [
    "xlabels=pd.Series([label if '01-01' in label else None for label in date_count.index])\n",
    "xlabels=xlabels[pd.notnull(xlabels)]\n",
    "xlabels"
   ]
  },
  {
   "cell_type": "code",
   "execution_count": null,
   "metadata": {},
   "outputs": [],
   "source": [
    "fig=plt.figure(figsize=[15,5])\n",
    "ax=date_count.plot(kind='line',linewidth=0.5,alpha=1,color='red')\n",
    "ax.set_ylim(bottom=0)\n",
    "ax.grid(True,linestyle='--')\n",
    "ax.set_xticks(xlabels.index)\n",
    "ax.set_xtickslabes(xlabels,rotation=35,rotation_mode='anchor',ha='right',fontproperties=ticks_font)\n",
    "ax.set_ylabel('Number of emails ',fontproperties=lable_font)\n",
    "ax.set_title('Gmail traffic per day',fontproperties=title_font)\n",
    "fig.tight_layout()\n",
    "fig.savefig('gmail-trafic-day.png',dpi=96)\n",
    "plt.show()\n"
   ]
  },
  {
   "cell_type": "code",
   "execution_count": 5,
   "metadata": {},
   "outputs": [],
   "source": [
    "import pandas as pd"
   ]
  },
  {
   "cell_type": "code",
   "execution_count": null,
   "metadata": {},
   "outputs": [],
   "source": [
    "times=pd.Series(a)"
   ]
  }
 ],
 "metadata": {
  "kernelspec": {
   "display_name": "Python 3",
   "language": "python",
   "name": "python3"
  },
  "language_info": {
   "codemirror_mode": {
    "name": "ipython",
    "version": 3
   },
   "file_extension": ".py",
   "mimetype": "text/x-python",
   "name": "python",
   "nbconvert_exporter": "python",
   "pygments_lexer": "ipython3",
   "version": "3.7.1"
  }
 },
 "nbformat": 4,
 "nbformat_minor": 2
}
